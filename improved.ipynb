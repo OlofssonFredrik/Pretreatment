{
 "cells": [
  {
   "cell_type": "code",
   "execution_count": 1,
   "metadata": {},
   "outputs": [
    {
     "data": {
      "text/plain": [
       "(array([1.56604, 0.80632, 1.09   , 0.896  ]),\n",
       " array([1.29016, 1.0362 , 1.1858 , 0.79512]),\n",
       " array([1.12108, 0.83268, 1.18722, 0.78636]),\n",
       " array([0.97836, 0.66638, 1.03296, 0.58696]))"
      ]
     },
     "execution_count": 1,
     "metadata": {},
     "output_type": "execute_result"
    }
   ],
   "source": [
    "import numpy as np\n",
    "\n",
    "hydration_after_p = 0.8\n",
    "hydration_before_p = 0.045\n",
    "#Wet Weight(g) after pretreatment\n",
    "#2% 1h, 12% 1h, 2% 3h 12% 3h\n",
    "w_60c= np.array([7.8302,4.0316,5.45,4.48]) \n",
    "w_80c= np.array([6.4508, 5.181, 5.929, 3.9756]) \n",
    "w_100c = np.array([5.6054, 4.1634, 5.9361, 3.9318]) \n",
    "w_120c = np.array([4.8918, 3.3319, 5.1648, 2.9348]) \n",
    "\n",
    "#Dry Weight(g) after pretreatment\n",
    "dry_w_60c = w_60c * (1-hydration_after_p)\n",
    "dry_w_80c = w_80c * (1-hydration_after_p)\n",
    "dry_w_100c = w_100c * (1-hydration_after_p)\n",
    "dry_w_120c = w_120c * (1-hydration_after_p)\n",
    "\n",
    "avg_lost_w_60c = dry_w_60c/2\n",
    "avg_lost_w_80c = dry_w_80c/2\n",
    "avg_lost_w_100c = dry_w_100c/2\n",
    "avg_lost_w_120c = dry_w_120c/2\n",
    "\n",
    "dry_w_60c, dry_w_80c, dry_w_100c, dry_w_120c"
   ]
  },
  {
   "cell_type": "code",
   "execution_count": 2,
   "metadata": {},
   "outputs": [],
   "source": [
    "def calculate_dry_weight(w, hydration_after_p):\n",
    "    return w * (1 - hydration_after_p)\n",
    "\n",
    "def calculate_hplc(hplc, k, m, dilution_factor=5):\n",
    "    return np.array([dilution_factor*(value-m)/k for value in hplc])\n",
    "\n",
    "def calculate_mass(c, volume_H):\n",
    "    return c * volume_H\n",
    "\n",
    "def calculate_max(values, dry_masses):\n",
    "    return [values[i+1]*value for i, value in enumerate(dry_masses)]\n",
    "\n",
    "def calculate_yield(m, max_m):\n",
    "    return np.divide(m, max_m)\n",
    "\n",
    "def calculate_average(pairs):\n",
    "    return np.mean(pairs, axis=1)\n",
    "\n",
    "def reshape_into_pairs(array):\n",
    "    return array.reshape(-1, 2)"
   ]
  },
  {
   "cell_type": "code",
   "execution_count": null,
   "metadata": {},
   "outputs": [],
   "source": [
    "def preprocess_data(G_samples_hplc, XMG_samples_hplc, glucose_values, xylmangal_values, volume, dry_masses_after_p, average_dry_masses_before_pretreatment):\n",
    "\n",
    "    pairs_G_C = reshape_into_pairs(G_samples_hplc)\n",
    "    pairs_XMG_C = reshape_into_pairs(XMG_samples_hplc)\n",
    "\n",
    "    avgs_G_C = calculate_average(pairs_G_C)\n",
    "    avgs_XMG_C = calculate_average(pairs_XMG_C)\n",
    "  \n",
    "    c_G = calculate_hplc(avgs_G_C, k=315718, m=4623)\n",
    "    c_XMG = calculate_hplc(avgs_XMG_C, k=317400, m=10216)\n",
    "\n",
    "    m_G = calculate_mass(c_G, volume)\n",
    "    m_XMG = calculate_mass(c_XMG, volume)\n",
    "\n",
    "    #Over the pretreatment\n",
    "    max_glucose_p_grams = calculate_max(glucose_values, dry_masses)\n",
    "    max_XMG_p_grams = calculate_max(xylmangal_values, dry_masses)\n",
    "    yield_glucose_p = calculate_yield(m_G, max_glucose_p_grams)\n",
    "    yield_XMG_p = calculate_yield(m_XMG, max_XMG_p)\n",
    "\n",
    "    #Over the process\n",
    "    yield_glucose_r = calculate_yield(m_G, max_glucose_r)\n",
    "    yield_XMG_r = calculate_yield(m_XMG, max_XMG_r)\n",
    "    max_glucose_r = glucose_values[0]\n",
    "    max_XMG_r = xylmangal_values[0]\n",
    "    monosacharides = np.add(glucose_values, xylmangal_values)\n",
    "    max_monosacharides_p = calculate_max(monosacharides, dry_masses)\n",
    "    max_monosacharides_r = monosacharides[0]\n",
    "\n",
    "    yield_monosacharides_p = calculate_yield(m_G + m_XMG, max_monosacharides_p)\n",
    "    yield_monosacharides_r = calculate_yield(m_G + m_XMG, max_monosacharides_r)\n",
    "\n",
    "    results = {\n",
    "        \"Milled mass\": average_dry_masses_before_pretreatment,\n",
    "\n",
    "        \"Max Yield Glucose over Process\": 39.54,\n",
    "        \"Max Yield XMG over Process\": \n",
    "        \"mass_XMG\": m_XMG,\n",
    "        \"mass_Glucose\": m_G,\n",
    "        \"max_glucose_%\": max_glucose_r,\n",
    "        \"max_XMG_%\": max_XMG_r,\n",
    "        \"yield_glucose_p\": yield_glucose_p,\n",
    "        \"yield_XMG_p\": yield_XMG_p,\n",
    "        \"yield_glucose_r\": yield_glucose_r,\n",
    "        \"yield_XMG_r\": yield_XMG_r,\n",
    "        \"yield_monosacharides_p\": yield_monosacharides_p,\n",
    "        \"yield_monosacharides_r\": yield_monosacharides_r\n",
    "    }\n",
    "\n",
    "    return results"
   ]
  },
  {
   "cell_type": "code",
   "execution_count": 3,
   "metadata": {},
   "outputs": [
    {
     "name": "stdout",
     "output_type": "stream",
     "text": [
      "Average dry masses before pretreatment: [1.999961   2.00258725 2.0008205  2.00096375]\n",
      "dryu masses after p: [0.97834092 1.03429626 1.56668247 1.09052524]\n"
     ]
    }
   ],
   "source": [
    "#Varmast 1h, varmast 3h, kallast 1h, kallast 3h\n",
    "#Ex 120C 1h, 120C 3h, 60C 1h, 60C 3h\n",
    "\n",
    "#CHANGE THESE\n",
    "milled_masses = np.array([2.0924,2.0960,2.0954,2.0985,2.0923,2.0979,2.0962,2.0943])\n",
    "Glucose_samples_hplc = np.array([590520.1774,  626867.5736, 693851.4441, 661331.5045, 578989.8003, 675418.0375, 571507.7927, 596580.4333])\n",
    "XMG_samples_hplc = np.array([149706.8617, 159126.8929,  176542.8571,  168805.7143,  147914.2857,  172857.1429,  146857.1429,  153200.0000])\n",
    "\n",
    "#Constants\n",
    "glucose_values = np.array([39.54, 88.30, 68.42, 65.11, 56.28])/100\n",
    "xylmangal_values = np.array([25.24, 2.64, 1.97, 9.96, 7.4])/100\n",
    "volume = 0.02485\n",
    "hydration_after_p = 0.8\n",
    "\n",
    "dry_masses_before_p = milled_masses*0.955\n",
    "average_dry_masses_before_pretreatment = calculate_average(reshape_into_pairs(dry_masses_before_p))\n",
    "a = average_dry_masses_before_pretreatment\n",
    "print(f\"Average dry masses before pretreatment: {a}\")\n",
    "\n",
    "#CHANGE THIS \n",
    "dry_masses_after_p = np.array([a[0]*avg_lost_w_120c[0], a[1]*avg_lost_w_120c[2], a[2]*avg_lost_w_60c[0], a[3]*avg_lost_w_60c[2]])\n",
    "\n",
    "print(f\"dryu masses after p: {dry_masses_after_p}\")"
   ]
  },
  {
   "cell_type": "code",
   "execution_count": 4,
   "metadata": {},
   "outputs": [
    {
     "ename": "NameError",
     "evalue": "name 'preprocess_data' is not defined",
     "output_type": "error",
     "traceback": [
      "\u001b[1;31m---------------------------------------------------------------------------\u001b[0m",
      "\u001b[1;31mNameError\u001b[0m                                 Traceback (most recent call last)",
      "Cell \u001b[1;32mIn[4], line 1\u001b[0m\n\u001b[1;32m----> 1\u001b[0m data \u001b[39m=\u001b[39m preprocess_data(Glucose_samples_hplc, XMG_samples_hplc, glucose_values, xylmangal_values, volume, dry_masses_after_p, average_dry_masses_before_pretreatment)\n\u001b[0;32m      2\u001b[0m \u001b[39mimport\u001b[39;00m \u001b[39mpandas\u001b[39;00m \u001b[39mas\u001b[39;00m \u001b[39mpd\u001b[39;00m\n\u001b[0;32m      4\u001b[0m index \u001b[39m=\u001b[39m [\u001b[39m'\u001b[39m\u001b[39m120h 1h\u001b[39m\u001b[39m'\u001b[39m, \u001b[39m'\u001b[39m\u001b[39m120h 3h\u001b[39m\u001b[39m'\u001b[39m, \u001b[39m'\u001b[39m\u001b[39m60h 1h\u001b[39m\u001b[39m'\u001b[39m, \u001b[39m'\u001b[39m\u001b[39m60h 3h\u001b[39m\u001b[39m'\u001b[39m]\n",
      "\u001b[1;31mNameError\u001b[0m: name 'preprocess_data' is not defined"
     ]
    }
   ],
   "source": [
    "data = preprocess_data(Glucose_samples_hplc, XMG_samples_hplc, glucose_values, xylmangal_values, volume, dry_masses_after_p, average_dry_masses_before_pretreatment)\n",
    "import pandas as pd\n",
    "\n",
    "index = ['120h 1h', '120h 3h', '60h 1h', '60h 3h']\n",
    "df = pd.DataFrame(data)\n",
    "df.index = index\n",
    "print('2% NaOH batch')\n",
    "print(df)"
   ]
  }
 ],
 "metadata": {
  "kernelspec": {
   "display_name": "Python 3",
   "language": "python",
   "name": "python3"
  },
  "language_info": {
   "codemirror_mode": {
    "name": "ipython",
    "version": 3
   },
   "file_extension": ".py",
   "mimetype": "text/x-python",
   "name": "python",
   "nbconvert_exporter": "python",
   "pygments_lexer": "ipython3",
   "version": "3.11.3"
  },
  "orig_nbformat": 4
 },
 "nbformat": 4,
 "nbformat_minor": 2
}
