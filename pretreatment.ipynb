{
 "cells": [
  {
   "cell_type": "code",
   "execution_count": 3,
   "metadata": {},
   "outputs": [
    {
     "name": "stdout",
     "output_type": "stream",
     "text": [
      "dry_w_60c: [1.56604 0.80632 1.09    0.896  ]\n",
      "dry_w_80c: [1.29016 1.0362  1.1858  0.79512]\n",
      "dry_w_100c: [1.12108 0.83268 1.18722 0.78636]\n",
      "dry_w_120c: [0.97836 0.66638 1.03296 0.58696]\n",
      "avg_lost_w_60c: [0.78302 0.40316 0.545   0.448  ]\n",
      "avg_lost_w_80c: [0.64508 0.5181  0.5929  0.39756]\n",
      "avg_lost_w_100c: [0.56054 0.41634 0.59361 0.39318]\n",
      "avg_lost_w_120c: [0.48918 0.33319 0.51648 0.29348]\n"
     ]
    }
   ],
   "source": [
    "import numpy as np\n",
    "import pandas as pd\n",
    "\n",
    "hydration_after_p = 0.8\n",
    "hydration_before_p = 0.045\n",
    "#Wet Weight(g) after pretreatment\n",
    "#2% 1h, 12% 1h, 2% 3h 12% 3h\n",
    "w_60c= np.array([7.8302,4.0316,5.45,4.48]) \n",
    "w_80c= np.array([6.4508, 5.181, 5.929, 3.9756]) \n",
    "w_100c = np.array([5.6054, 4.1634, 5.9361, 3.9318]) \n",
    "w_120c = np.array([4.8918, 3.3319, 5.1648, 2.9348]) \n",
    "\n",
    "#Dry Weight(g) after pretreatment\n",
    "dry_w_60c = w_60c * (1-hydration_after_p)\n",
    "dry_w_80c = w_80c * (1-hydration_after_p)\n",
    "dry_w_100c = w_100c * (1-hydration_after_p)\n",
    "dry_w_120c = w_120c * (1-hydration_after_p)\n",
    "\n",
    "avg_lost_w_60c = dry_w_60c/2\n",
    "avg_lost_w_80c = dry_w_80c/2\n",
    "avg_lost_w_100c = dry_w_100c/2\n",
    "avg_lost_w_120c = dry_w_120c/2\n",
    "\n",
    "print(f\"dry_w_60c: {dry_w_60c}\")\n",
    "print(f\"dry_w_80c: {dry_w_80c}\")\n",
    "print(f\"dry_w_100c: {dry_w_100c}\")\n",
    "print(f\"dry_w_120c: {dry_w_120c}\")\n",
    "\n",
    "print(f\"avg_lost_w_60c: {avg_lost_w_60c}\")\n",
    "print(f\"avg_lost_w_80c: {avg_lost_w_80c}\")\n",
    "print(f\"avg_lost_w_100c: {avg_lost_w_100c}\")\n",
    "print(f\"avg_lost_w_120c: {avg_lost_w_120c}\")\n",
    "\n",
    "#Data for study: 12% 80-100:\n",
    "#m_G_before: [ 0.49437643  0.46365277 -0.00181937  0.45455491]\n",
    "#m_XMG_before: [ 0.01505825 -0.00399917 -0.00399917 -0.00399917]\n",
    "#dry_masses_after_p: [0.79574617 0.75134929 0.96522755 0.7593396 ]\n"
   ]
  }
 ],
 "metadata": {
  "kernelspec": {
   "display_name": "myenv",
   "language": "python",
   "name": "python3"
  },
  "language_info": {
   "codemirror_mode": {
    "name": "ipython",
    "version": 3
   },
   "file_extension": ".py",
   "mimetype": "text/x-python",
   "name": "python",
   "nbconvert_exporter": "python",
   "pygments_lexer": "ipython3",
   "version": "3.11.3"
  },
  "orig_nbformat": 4
 },
 "nbformat": 4,
 "nbformat_minor": 2
}
