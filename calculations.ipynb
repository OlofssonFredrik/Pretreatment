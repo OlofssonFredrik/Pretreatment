{
 "cells": [
  {
   "cell_type": "code",
   "execution_count": 57,
   "metadata": {},
   "outputs": [
    {
     "data": {
      "text/plain": [
       "(array([1.56604, 0.80632, 1.09   , 0.896  ]),\n",
       " array([1.29016, 1.0362 , 1.1858 , 0.79512]),\n",
       " array([1.12108, 0.83268, 1.18722, 0.78636]),\n",
       " array([0.97836, 0.66638, 1.03296, 0.58696]))"
      ]
     },
     "execution_count": 57,
     "metadata": {},
     "output_type": "execute_result"
    }
   ],
   "source": [
    "import numpy as np\n",
    "\n",
    "hydration_after_p = 0.8\n",
    "hydration_before_p = 0.045\n",
    "#Wet Weight(g) after pretreatment\n",
    "#2% 1h, 12% 1h, 2% 3h 12% 3h\n",
    "w_60c= np.array([7.8302,4.0316,5.45,4.48]) \n",
    "w_80c= np.array([6.4508, 5.181, 5.929, 3.9756]) \n",
    "w_100c = np.array([5.6054, 4.1634, 5.9361, 3.9318]) \n",
    "w_120c = np.array([4.8918, 3.3319, 5.1648, 2.9348]) \n",
    "\n",
    "#Dry Weight(g) after pretreatment\n",
    "dry_w_60c = w_60c * (1-hydration_after_p)\n",
    "dry_w_80c = w_80c * (1-hydration_after_p)\n",
    "dry_w_100c = w_100c * (1-hydration_after_p)\n",
    "dry_w_120c = w_120c * (1-hydration_after_p)\n",
    "\n",
    "avg_lost_w_60c = dry_w_60c/2\n",
    "avg_lost_w_80c = dry_w_80c/2\n",
    "avg_lost_w_100c = dry_w_100c/2\n",
    "avg_lost_w_120c = dry_w_120c/2\n",
    "\n",
    "dry_w_60c, dry_w_80c, dry_w_100c, dry_w_120c"
   ]
  },
  {
   "cell_type": "code",
   "execution_count": 58,
   "metadata": {},
   "outputs": [],
   "source": [
    "def calculate_dry_weight(w, hydration_after_p):\n",
    "    return w * (1 - hydration_after_p)\n",
    "\n",
    "def calculate_hplc(hplc, k, m, dilution_factor=5):\n",
    "    return np.array([dilution_factor*(value-m)/k for value in hplc])\n",
    "\n",
    "def calculate_mass(c, volume_H):\n",
    "    return c * volume_H\n",
    "\n",
    "def calculate_max(values, dry_masses):\n",
    "    return [values[i+1]*value for i, value in enumerate(dry_masses)]\n",
    "\n",
    "def calculate_yield(m, max_m):\n",
    "    return np.divide(m, max_m)\n",
    "\n",
    "def calculate_average(pairs):\n",
    "    return np.mean(pairs, axis=1)\n",
    "\n",
    "def reshape_into_pairs(array):\n",
    "    return array.reshape(-1, 2)"
   ]
  },
  {
   "cell_type": "code",
   "execution_count": 59,
   "metadata": {},
   "outputs": [],
   "source": [
    "def preprocess_data(G_samples_hplc, XMG_samples_hplc, glucose_values, xylmangal_values, volume, dry_masses_after_p, dry_masses_before_pretreatment):\n",
    "\n",
    "    pairs_G_C = reshape_into_pairs(G_samples_hplc)\n",
    "    pairs_XMG_C = reshape_into_pairs(XMG_samples_hplc)\n",
    "\n",
    "    avgs_G_C = calculate_average(pairs_G_C)\n",
    "    avgs_XMG_C = calculate_average(pairs_XMG_C)\n",
    "  \n",
    "    c_G = calculate_hplc(avgs_G_C, k=315718, m=4623)\n",
    "    c_XMG = calculate_hplc(avgs_XMG_C, k=317400, m=10216)\n",
    "\n",
    "    m_G = calculate_mass(c_G, volume)\n",
    "    m_XMG = calculate_mass(c_XMG, volume)\n",
    "\n",
    "    #Kompensera för att vi inte tog allt när vi gjorde hplc\n",
    "    wet_mass_into_hplc = 2 #g\n",
    "    moisture = 0.8\n",
    "    dried_sample = wet_mass_into_hplc * (1-moisture)\n",
    "    print(f\"dried sample: {dried_sample}\")\n",
    "    multiply_factor_over_pretreatment = dry_masses_after_p/dried_sample\n",
    "    print(f\"multiply factor over pretreatment: {multiply_factor_over_pretreatment}\")\n",
    "    m_G = m_G * multiply_factor_over_pretreatment\n",
    "    m_XMG = m_XMG * multiply_factor_over_pretreatment\n",
    "    \n",
    "    print(F\" m_G: {m_G}, m_XMG: {m_XMG}\")\n",
    "\n",
    "    #Over the process\n",
    "    max_glucose_grams = glucose_values[0]*dry_masses_before_pretreatment\n",
    "    max_XMG_grams = xylmangal_values[0]*dry_masses_before_pretreatment\n",
    "    max_monosacharices_grams = np.add(max_glucose_grams, max_XMG_grams)\n",
    "\n",
    "    print(f\"max glucose grams: {max_glucose_grams}, max XMG grams: {max_XMG_grams}, max monosacharices grams: {max_monosacharices_grams}\")\n",
    "\n",
    "    yield_glucose_procent_process = calculate_yield(m_G, dry_masses_before_pretreatment)\n",
    "    yield_XMG_procent_process = calculate_yield(m_XMG, dry_masses_before_pretreatment)\n",
    "    yield_monosacharides_procent_process = np.add(yield_glucose_procent_process, yield_XMG_procent_process)\n",
    "\n",
    "    #Over the pretreatment\n",
    "    max_glucose_p_grams = calculate_max(glucose_values, dry_masses_after_p)\n",
    "    max_XMG_p_grams = calculate_max(xylmangal_values, dry_masses_after_p)\n",
    "    max_monosacharices_p_grams = np.add(max_glucose_p_grams, max_XMG_p_grams)\n",
    "\n",
    "    yield_glucose_procent_pretreatment = calculate_yield(m_G, max_glucose_p_grams)\n",
    "    yield_XMG_procent_pretreatment = calculate_yield(m_XMG, max_XMG_p_grams)\n",
    "    yield_monosacharides_procent_pretreatment = np.add(yield_glucose_procent_pretreatment, yield_XMG_procent_pretreatment)\n",
    "\n",
    "    #Selectivity\n",
    "\n",
    "    #Over the process\n",
    "    selectivity_glucose_procent_process = np.divide(yield_glucose_procent_process, yield_monosacharides_procent_process)\n",
    "    \n",
    "\n",
    "    results = {\n",
    "        \"Dry Milled(g)\": dry_masses_before_pretreatment,\n",
    "        \"Dry after Pretreatment(g)\": dry_masses_after_p,\n",
    "\n",
    "        \"HPLC: Glucose(g) \": m_G,\n",
    "        \"HPLC: XMG(g)\": m_XMG,\n",
    "        \"Monosacharides(g)\": np.add(m_G, m_XMG),\n",
    "\n",
    "        \"Max Yield Glucose over Process\": 39.54,\n",
    "        \"Max Yield XMG over Process\": 25.24,\n",
    "        \"Max Yield Monosacharides over Process\": 25.24+39.54,\n",
    "\n",
    "        \"Actual Yield Glucose over Process\": yield_glucose_procent_process,\n",
    "        \"Actual Yield XMG over Process\": yield_XMG_procent_process,\n",
    "        \"Actual Yield Monosacharides over Process\": yield_monosacharides_procent_process,\n",
    "\n",
    "        \"Max Yield Glucose over Pretreatment\": glucose_values[1:],\n",
    "        \"Max Yield XMG over Pretreatment\": xylmangal_values[1:],\n",
    "        \"Max Yield Monosacharides over Pretreatment\": glucose_values[1:]+xylmangal_values[1:],\n",
    "\n",
    "        \"Actual Yield Glucose over Pretreatment\": yield_glucose_procent_pretreatment,\n",
    "        \"Actual Yield XMG over Pretreatment\": yield_XMG_procent_pretreatment,\n",
    "        \"Actual Yield Monosacharides over Pretreatment\": yield_monosacharides_procent_pretreatment,\n",
    "    }\n",
    "\n",
    "    return results"
   ]
  },
  {
   "cell_type": "code",
   "execution_count": 60,
   "metadata": {},
   "outputs": [
    {
     "name": "stdout",
     "output_type": "stream",
     "text": [
      "Average dry masses before pretreatment: [1.999961   2.00258725 2.0008205  2.00096375]\n",
      "dryu masses after p: [0.97834092 1.03429626 1.56668247 1.09052524]\n"
     ]
    }
   ],
   "source": [
    "#Varmast 1h, varmast 3h, kallast 1h, kallast 3h\n",
    "#Ex 120C 1h, 120C 3h, 60C 1h, 60C 3h\n",
    "\n",
    "#CHANGE THESE\n",
    "milled_masses = np.array([2.0924,2.0960,2.0954,2.0985,2.0923,2.0979,2.0962,2.0943])\n",
    "Glucose_samples_hplc = np.array([590520.1774,  626867.5736, 693851.4441, 661331.5045, 578989.8003, 675418.0375, 571507.7927, 596580.4333])\n",
    "XMG_samples_hplc = np.array([149706.8617, 159126.8929,  176542.8571,  168805.7143,  147914.2857,  172857.1429,  146857.1429,  153200.0000])\n",
    "\n",
    "#Constants\n",
    "glucose_values = np.array([39.54, 88.30, 68.42, 65.11, 56.28])/100\n",
    "xylmangal_values = np.array([25.24, 2.64, 1.97, 9.96, 7.4])/100\n",
    "volume = 0.02485\n",
    "hydration_after_p = 0.8\n",
    "\n",
    "dry_masses_before_p = milled_masses*0.955\n",
    "average_dry_masses_before_pretreatment = calculate_average(reshape_into_pairs(dry_masses_before_p))\n",
    "a = average_dry_masses_before_pretreatment\n",
    "print(f\"Average dry masses before pretreatment: {a}\")\n",
    "\n",
    "#CHANGE THIS \n",
    "dry_masses_after_p = np.array([a[0]*avg_lost_w_120c[0], a[1]*avg_lost_w_120c[2], a[2]*avg_lost_w_60c[0], a[3]*avg_lost_w_60c[2]])\n",
    "\n",
    "print(f\"dryu masses after p: {dry_masses_after_p}\")"
   ]
  },
  {
   "cell_type": "code",
   "execution_count": 61,
   "metadata": {},
   "outputs": [
    {
     "name": "stdout",
     "output_type": "stream",
     "text": [
      "dried sample: 0.3999999999999999\n",
      "multiply factor over pretreatment: [2.4458523  2.58574066 3.91670617 2.72631311]\n",
      " m_G: [0.58145376 0.68482048 0.95965218 0.6216803 ], m_XMG: [0.13806627 0.16444335 0.23024639 0.14921464]\n",
      "max glucose grams: [0.79078458 0.791823   0.79112443 0.79118107], max XMG grams: [0.50479016 0.50545302 0.50500709 0.50504325], max monosacharices grams: [1.29557474 1.29727602 1.29613152 1.29622432]\n"
     ]
    }
   ],
   "source": [
    "data = preprocess_data(Glucose_samples_hplc, XMG_samples_hplc, glucose_values, xylmangal_values, volume, dry_masses_after_p, average_dry_masses_before_pretreatment)\n",
    "import pandas as pd\n",
    "\n",
    "index = ['120h 1h', '120h 3h', '60h 1h', '60h 3h']\n",
    "#df = pd.DataFrame(data)\n",
    "#print(df)"
   ]
  },
  {
   "cell_type": "code",
   "execution_count": 62,
   "metadata": {},
   "outputs": [
    {
     "ename": "TypeError",
     "evalue": "unhashable type: 'list'",
     "output_type": "error",
     "traceback": [
      "\u001b[1;31m---------------------------------------------------------------------------\u001b[0m",
      "\u001b[1;31mTypeError\u001b[0m                                 Traceback (most recent call last)",
      "Cell \u001b[1;32mIn[62], line 31\u001b[0m\n\u001b[0;32m     21\u001b[0m pretreatment_data \u001b[39m=\u001b[39m general_data \u001b[39m+\u001b[39m [\n\u001b[0;32m     22\u001b[0m     \u001b[39m\"\u001b[39m\u001b[39mMax Yield Glucose over Pretreatment\u001b[39m\u001b[39m\"\u001b[39m,\n\u001b[0;32m     23\u001b[0m     \u001b[39m\"\u001b[39m\u001b[39mMax Yield XMG over Pretreatment\u001b[39m\u001b[39m\"\u001b[39m,\n\u001b[1;32m   (...)\u001b[0m\n\u001b[0;32m     27\u001b[0m     \u001b[39m\"\u001b[39m\u001b[39mActual Yield Monosacharides over Pretreatment\u001b[39m\u001b[39m\"\u001b[39m\n\u001b[0;32m     28\u001b[0m ]\n\u001b[0;32m     30\u001b[0m \u001b[39m# Create dataframes\u001b[39;00m\n\u001b[1;32m---> 31\u001b[0m process_df \u001b[39m=\u001b[39m pd\u001b[39m.\u001b[39mDataFrame(data[process_data])\n\u001b[0;32m     32\u001b[0m pretreatment_df \u001b[39m=\u001b[39m pd\u001b[39m.\u001b[39mDataFrame(data[pretreatment_data])\n\u001b[0;32m     34\u001b[0m \u001b[39m# Assign index\u001b[39;00m\n",
      "\u001b[1;31mTypeError\u001b[0m: unhashable type: 'list'"
     ]
    }
   ],
   "source": [
    "# General data that is common to both dataframes\n",
    "general_data = [\n",
    "    \"Dry Milled(g)\",\n",
    "    \"Dry after Pretreatment(g)\",\n",
    "    \"HPLC: Glucose(g) \",\n",
    "    \"HPLC: XMG(g)\",\n",
    "    \"Monosacharides(g)\"\n",
    "]\n",
    "\n",
    "# Process specific data\n",
    "process_data = general_data + [\n",
    "    \"Max Yield Glucose over Process\",\n",
    "    \"Max Yield XMG over Process\",\n",
    "    \"Max Yield Monosacharides over Process\",\n",
    "    \"Actual Yield Glucose over Process\",\n",
    "    \"Actual Yield XMG over Process\",\n",
    "    \"Actual Yield Monosacharides over Process\"\n",
    "]\n",
    "\n",
    "# Pretreatment specific data\n",
    "pretreatment_data = general_data + [\n",
    "    \"Max Yield Glucose over Pretreatment\",\n",
    "    \"Max Yield XMG over Pretreatment\",\n",
    "    \"Max Yield Monosacharides over Pretreatment\",\n",
    "    \"Actual Yield Glucose over Pretreatment\",\n",
    "    \"Actual Yield XMG over Pretreatment\",\n",
    "    \"Actual Yield Monosacharides over Pretreatment\"\n",
    "]\n",
    "\n",
    "print(process_data)\n",
    "print(pretreatment_data)\n",
    "# Create dataframes\n",
    "process_df = pd.DataFrame(data[process_data])\n",
    "pretreatment_df = pd.DataFrame(data[pretreatment_data])\n",
    "\n",
    "# Assign index\n",
    "process_df.index = index\n",
    "pretreatment_df.index = index\n",
    "\n",
    "print('2% NaOH batch - Process Data')\n",
    "print(process_df)\n",
    "print('\\n2% NaOH batch - Pretreatment Data')\n",
    "print(pretreatment_df)\n"
   ]
  }
 ],
 "metadata": {
  "kernelspec": {
   "display_name": "Python 3",
   "language": "python",
   "name": "python3"
  },
  "language_info": {
   "codemirror_mode": {
    "name": "ipython",
    "version": 3
   },
   "file_extension": ".py",
   "mimetype": "text/x-python",
   "name": "python",
   "nbconvert_exporter": "python",
   "pygments_lexer": "ipython3",
   "version": "3.11.3"
  },
  "orig_nbformat": 4
 },
 "nbformat": 4,
 "nbformat_minor": 2
}
